{
 "cells": [
  {
   "cell_type": "code",
   "execution_count": 4,
   "metadata": {},
   "outputs": [],
   "source": [
    "from keras.datasets import mnist\n",
    "from keras.models import Sequential\n",
    "from keras.utils import to_categorical\n",
    "from keras.layers import *"
   ]
  },
  {
   "cell_type": "code",
   "execution_count": 2,
   "metadata": {},
   "outputs": [
    {
     "name": "stdout",
     "output_type": "stream",
     "text": [
      "(60000, 28, 28)\n"
     ]
    }
   ],
   "source": [
    "(x_train, y_train),(x_test, y_test) = mnist.load_data()\n",
    "print(x_train.shape)"
   ]
  },
  {
   "cell_type": "code",
   "execution_count": 5,
   "metadata": {},
   "outputs": [],
   "source": [
    "def dataPreprocess(x, y):\n",
    "    \n",
    "    x = x.reshape((-1, 28, 28, 1))\n",
    "    x = x/255.0\n",
    "    y = to_categorical(y)\n",
    "    \n",
    "    return x, y"
   ]
  },
  {
   "cell_type": "code",
   "execution_count": 6,
   "metadata": {},
   "outputs": [
    {
     "name": "stdout",
     "output_type": "stream",
     "text": [
      "(60000, 28, 28, 1) (60000, 10)\n"
     ]
    }
   ],
   "source": [
    "x_train, y_train = dataPreprocess(x_train, y_train)\n",
    "print(x_train.shape, y_train.shape)"
   ]
  },
  {
   "cell_type": "code",
   "execution_count": 7,
   "metadata": {},
   "outputs": [
    {
     "name": "stdout",
     "output_type": "stream",
     "text": [
      "(10000, 28, 28, 1) (10000, 10)\n"
     ]
    }
   ],
   "source": [
    "x_test, y_test = dataPreprocess(x_test, y_test)\n",
    "print(x_test.shape, y_test.shape)"
   ]
  },
  {
   "cell_type": "code",
   "execution_count": 8,
   "metadata": {},
   "outputs": [
    {
     "name": "stdout",
     "output_type": "stream",
     "text": [
      "_________________________________________________________________\n",
      "Layer (type)                 Output Shape              Param #   \n",
      "=================================================================\n",
      "conv2d_4 (Conv2D)            (None, 26, 26, 32)        320       \n",
      "_________________________________________________________________\n",
      "max_pooling2d_3 (MaxPooling2 (None, 13, 13, 32)        0         \n",
      "_________________________________________________________________\n",
      "conv2d_5 (Conv2D)            (None, 11, 11, 64)        18496     \n",
      "_________________________________________________________________\n",
      "max_pooling2d_4 (MaxPooling2 (None, 5, 5, 64)          0         \n",
      "_________________________________________________________________\n",
      "conv2d_6 (Conv2D)            (None, 3, 3, 64)          36928     \n",
      "_________________________________________________________________\n",
      "flatten_2 (Flatten)          (None, 576)               0         \n",
      "_________________________________________________________________\n",
      "dense_3 (Dense)              (None, 64)                36928     \n",
      "_________________________________________________________________\n",
      "dense_4 (Dense)              (None, 10)                650       \n",
      "=================================================================\n",
      "Total params: 93,322\n",
      "Trainable params: 93,322\n",
      "Non-trainable params: 0\n",
      "_________________________________________________________________\n"
     ]
    }
   ],
   "source": [
    "model = Sequential()\n",
    "model.add(Conv2D(32, (3, 3), activation = 'relu', input_shape=(28, 28, 1)))\n",
    "model.add(MaxPool2D((2, 2)))\n",
    "model.add(Conv2D(64, (3, 3), activation = 'relu'))\n",
    "model.add(MaxPool2D((2, 2)))\n",
    "model.add(Conv2D(64, (3, 3), activation = 'relu'))\n",
    "model.add(Flatten())\n",
    "model.add(Dense(64, activation='relu'))\n",
    "model.add(Dense(10, activation='softmax'))\n",
    "model.summary()"
   ]
  },
  {
   "cell_type": "code",
   "execution_count": 9,
   "metadata": {},
   "outputs": [
    {
     "name": "stdout",
     "output_type": "stream",
     "text": [
      "WARNING:tensorflow:From /home/prakhar/.local/lib/python3.6/site-packages/tensorflow/python/ops/math_ops.py:3066: to_int32 (from tensorflow.python.ops.math_ops) is deprecated and will be removed in a future version.\n",
      "Instructions for updating:\n",
      "Use tf.cast instead.\n",
      "Train on 54000 samples, validate on 6000 samples\n",
      "Epoch 1/20\n",
      "54000/54000 [==============================] - 19s 359us/step - loss: 0.2730 - acc: 0.9164 - val_loss: 0.0805 - val_acc: 0.9760\n",
      "Epoch 2/20\n",
      "54000/54000 [==============================] - 4s 78us/step - loss: 0.0660 - acc: 0.9792 - val_loss: 0.0520 - val_acc: 0.9840\n",
      "Epoch 3/20\n",
      "54000/54000 [==============================] - 4s 76us/step - loss: 0.0474 - acc: 0.9853 - val_loss: 0.0417 - val_acc: 0.9888\n",
      "Epoch 4/20\n",
      "54000/54000 [==============================] - 4s 68us/step - loss: 0.0368 - acc: 0.9883 - val_loss: 0.0471 - val_acc: 0.9867\n",
      "Epoch 5/20\n",
      "54000/54000 [==============================] - 3s 62us/step - loss: 0.0285 - acc: 0.9910 - val_loss: 0.0375 - val_acc: 0.9883\n",
      "Epoch 6/20\n",
      "54000/54000 [==============================] - 3s 59us/step - loss: 0.0238 - acc: 0.9928 - val_loss: 0.0334 - val_acc: 0.9913\n",
      "Epoch 7/20\n",
      "54000/54000 [==============================] - 3s 57us/step - loss: 0.0212 - acc: 0.9931 - val_loss: 0.0339 - val_acc: 0.9908\n",
      "Epoch 8/20\n",
      "54000/54000 [==============================] - 3s 57us/step - loss: 0.0166 - acc: 0.9944 - val_loss: 0.0363 - val_acc: 0.9900\n",
      "Epoch 9/20\n",
      "54000/54000 [==============================] - 3s 58us/step - loss: 0.0142 - acc: 0.9953 - val_loss: 0.0444 - val_acc: 0.9888\n",
      "Epoch 10/20\n",
      "54000/54000 [==============================] - 3s 58us/step - loss: 0.0139 - acc: 0.9954 - val_loss: 0.0448 - val_acc: 0.9877\n",
      "Epoch 11/20\n",
      "54000/54000 [==============================] - 3s 58us/step - loss: 0.0126 - acc: 0.9956 - val_loss: 0.0393 - val_acc: 0.9900\n",
      "Epoch 12/20\n",
      "54000/54000 [==============================] - 3s 63us/step - loss: 0.0098 - acc: 0.9969 - val_loss: 0.0421 - val_acc: 0.9905\n",
      "Epoch 13/20\n",
      "54000/54000 [==============================] - 4s 70us/step - loss: 0.0095 - acc: 0.9970 - val_loss: 0.0398 - val_acc: 0.9912\n",
      "Epoch 14/20\n",
      "54000/54000 [==============================] - 4s 68us/step - loss: 0.0079 - acc: 0.9976 - val_loss: 0.0408 - val_acc: 0.9915\n",
      "Epoch 15/20\n",
      "54000/54000 [==============================] - 4s 75us/step - loss: 0.0078 - acc: 0.9973 - val_loss: 0.0402 - val_acc: 0.9908\n",
      "Epoch 16/20\n",
      "54000/54000 [==============================] - 4s 75us/step - loss: 0.0072 - acc: 0.9976 - val_loss: 0.0362 - val_acc: 0.9918\n",
      "Epoch 17/20\n",
      "54000/54000 [==============================] - 3s 61us/step - loss: 0.0065 - acc: 0.9979 - val_loss: 0.0409 - val_acc: 0.9905\n",
      "Epoch 18/20\n",
      "54000/54000 [==============================] - 4s 75us/step - loss: 0.0057 - acc: 0.9983 - val_loss: 0.0429 - val_acc: 0.9917\n",
      "Epoch 19/20\n",
      "54000/54000 [==============================] - 4s 75us/step - loss: 0.0041 - acc: 0.9986 - val_loss: 0.0442 - val_acc: 0.9915\n",
      "Epoch 20/20\n",
      "54000/54000 [==============================] - 4s 67us/step - loss: 0.0047 - acc: 0.9982 - val_loss: 0.0422 - val_acc: 0.9907\n"
     ]
    }
   ],
   "source": [
    "model.compile(optimizer='adam', loss='categorical_crossentropy', metrics=['accuracy'])\n",
    "hist = model.fit(x_train, y_train, epochs=20, validation_split=.1, batch_size=128)"
   ]
  },
  {
   "cell_type": "code",
   "execution_count": 10,
   "metadata": {},
   "outputs": [
    {
     "name": "stdout",
     "output_type": "stream",
     "text": [
      "10000/10000 [==============================] - 1s 53us/step\n"
     ]
    },
    {
     "data": {
      "text/plain": [
       "[0.043040690777964075, 0.9909]"
      ]
     },
     "execution_count": 10,
     "metadata": {},
     "output_type": "execute_result"
    }
   ],
   "source": [
    "model.evaluate(x_test, y_test)"
   ]
  },
  {
   "cell_type": "code",
   "execution_count": null,
   "metadata": {},
   "outputs": [],
   "source": []
  }
 ],
 "metadata": {
  "kernelspec": {
   "display_name": "Python 3",
   "language": "python",
   "name": "python3"
  },
  "language_info": {
   "codemirror_mode": {
    "name": "ipython",
    "version": 3
   },
   "file_extension": ".py",
   "mimetype": "text/x-python",
   "name": "python",
   "nbconvert_exporter": "python",
   "pygments_lexer": "ipython3",
   "version": "3.6.8"
  }
 },
 "nbformat": 4,
 "nbformat_minor": 2
}
